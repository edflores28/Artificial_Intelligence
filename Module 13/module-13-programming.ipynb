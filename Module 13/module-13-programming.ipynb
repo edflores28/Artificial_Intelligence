{
 "cells": [
  {
   "cell_type": "markdown",
   "metadata": {},
   "source": [
    "# Module 13 - Programming Assignment\n",
    "\n",
    "## Directions\n",
    "\n",
    "There are general instructions on Blackboard and in the Syllabus for Programming Assignments. This Notebook also has instructions specific to this assignment. Read all the instructions carefully and make sure you understand them. Please ask questions on the discussion boards or email me at `EN605.645@gmail.com` if you do not understand something.\n",
    "\n",
    "<div style=\"background: mistyrose; color: firebrick; border: 2px solid darkred; padding: 5px; margin: 10px;\">\n",
    "You must follow the directions *exactly* or you will get a 0 on the assignment.\n",
    "</div>\n",
    "\n",
    "You must submit a zip file of your assignment and associated files (if there are any) to Blackboard. The zip file will be named after you JHED ID: `<jhed_id>.zip`. It will not include any other information. Inside this zip file should be the following directory structure:\n",
    "\n",
    "```\n",
    "<jhed_id>\n",
    "    |\n",
    "    +--<jhed_id>.ipynb\n",
    "    +--(any other files)\n",
    "```\n",
    "\n",
    "For example, do not name your directory `programming_assignment_01` and do not name your directory `smith122_pr1` or any else. It must be only your JHED ID. You only need to submit the .ipynb file and any auxiliary files. I'll generate the HTML file."
   ]
  },
  {
   "cell_type": "markdown",
   "metadata": {},
   "source": [
    "## k Nearest Neighbors and Model Evaluation\n",
    "\n",
    "You must complete the 4 following tasks:\n",
    "\n",
    "1. Implement k-Nearest Neighbor *regression* as described in the Module. You can definitely do this in a Python file and import it.\n",
    "2. Use validation curves as described in Module 9 to determine the best value of k trying values of 1 to 10. Note that you don't need to use odd values of k for regression problems. Create 10 folds and use one fold as your test set...or you can do this 10x and average the results.\n",
    "3. Use learning curves as described in Module 9 to determine if your model could use more data.\n",
    "4. Use 10-fold cross-validation to establish confidence bounds on your model's performance. Calculate the mean (average) MSE (which sounds funny, I know) and the standard deviation.\n",
    "\n",
    "Additionally, because you can't be *wrong* with the k = 1 in the training data, your curves will look a little funky initially.\n",
    "\n",
    "As before make sure you actually plot curves and that everything is labeled. Each chart from part #2 and #3 has *two* curves. Please review the comments to Module 9 if you're not sure why.\n",
    "\n",
    "Use the data in concrete_compressive_strength.csv for this assignment obtainable at [UCI ML Repository - Concrete Compressive Strength](https://archive.ics.uci.edu/ml/datasets/Concrete+Compressive+Strength).\n",
    "\n",
    "Because the data is always the model, for knn, you simply need a function `knn` that will take the data, a value for k, and a List of instances and return a List of predictions (in this case, we're doing regression...you don't have to write a version of `knn` that would do either).\n",
    "\n",
    "As before there's a lot of infrastructure involved and the specific names I leave up to you as long as you clearly indicate your answers to 1-4 above.\n",
    "\n",
    "Additionally, you *must* answer the discussion questions:"
   ]
  },
  {
   "cell_type": "markdown",
   "metadata": {},
   "source": [
    "## Source Code"
   ]
  },
  {
   "cell_type": "code",
   "execution_count": 1,
   "metadata": {},
   "outputs": [],
   "source": [
    "import sys\n",
    "import csv\n",
    "import numpy as np\n",
    "import matplotlib.pyplot as plt\n",
    "import matplotlib.patches as mpatches\n",
    "from copy import deepcopy\n",
    "from random import shuffle\n",
    "\n",
    "def create_folds(data, k=10):\n",
    "    '''\n",
    "    This routine reads the csv file and\n",
    "    creates k folds of the data set\n",
    "\n",
    "    Args:\n",
    "        data - the data\n",
    "        k - the total folds\n",
    "    Returns:\n",
    "        a list of the data partitioned into folds\n",
    "    '''\n",
    "    folds = []\n",
    "    # Calculate the length for each fold\n",
    "    fold_len = int(len(data)/k)\n",
    "    # Create k-1 folds\n",
    "    for i in range(k-1):\n",
    "        fold = []\n",
    "        # Create the fold of size fold_len\n",
    "        while len(fold) < fold_len:\n",
    "            fold.append(data[0])\n",
    "            data = np.delete(data, 0, 0)  \n",
    "        # Add to the folds list\n",
    "        folds.append(fold)\n",
    "    # For the final fold add whatever remains in\n",
    "    # the data set\n",
    "    folds.append(data)\n",
    "    # Return the folds\n",
    "    return folds\n",
    "\n",
    "def read_data(filename):\n",
    "    '''\n",
    "    This routine reads the data from the file\n",
    "\n",
    "    Args:\n",
    "        filename - the files name\n",
    "    Returns\n",
    "        the data set as a numpy array\n",
    "    '''\n",
    "    with open(filename, 'r') as csv_file:\n",
    "        csv_reader = csv.reader(csv_file)\n",
    "        data = []\n",
    "        for row in csv_reader:\n",
    "            data.append([float(v) for v in row])\n",
    "    return np.asarray(data)\n",
    "\n",
    "def distance(x, y):\n",
    "    '''\n",
    "    This routine computes the distance for x\n",
    "    and all the y points\n",
    "    \n",
    "    Args:\n",
    "        x - a single data point\n",
    "        y - a numpy array of points\n",
    "    Returns:\n",
    "        a numpy array of distances\n",
    "    '''    \n",
    "    return np.sum((x-y)**2, axis=1)\n",
    "\n",
    "def calculate_error(train, test, k):\n",
    "    '''\n",
    "    This routine calculates the mean squared error\n",
    "\n",
    "    Args:\n",
    "        train - the training set\n",
    "        test - the testing set\n",
    "        k - the total neighbors to account for\n",
    "    Return:\n",
    "        the MSE\n",
    "    '''\n",
    "    squared_errors = []\n",
    "    for x in test:\n",
    "        squared_errors.append((x[-1]-knn(k, train, x))**2)\n",
    "    return sum(squared_errors)/len(squared_errors)\n",
    "    \n",
    "def determine_bias_variance(train, test, steps, k):\n",
    "    '''\n",
    "    This routine determines the bias variance\n",
    "    \n",
    "    Args:\n",
    "        train - the training set\n",
    "        test - the testing set\n",
    "        steps - a list of %s to divide the training set\n",
    "        k - the k value for NN algorithm\n",
    "    '''\n",
    "    train_errors = []\n",
    "    test_errors = []\n",
    "    # Iterate over the steps\n",
    "    for step in steps:\n",
    "        # Determine the training set length\n",
    "        train_len = int(step * len(train))\n",
    "        # Get a list of random indices\n",
    "        indices = np.random.choice(len(train), train_len, replace=False)\n",
    "        # Get the rows of interest\n",
    "        train_pct = train[indices, :]\n",
    "        # Calculate the errors for both training and testing sets\n",
    "        train_errors.append(calculate_error(train_pct, train_pct, k))\n",
    "        test_errors.append(calculate_error(train_pct, test, k))\n",
    "    return train_errors, test_errors\n",
    "\n",
    "def cross_validate(data, k, steps=None):\n",
    "    ''' \n",
    "    combine train, classify and evaluate\n",
    "    to perform 10 fold cross validation, print out the error rate for\n",
    "    each fold and print the final, average error rate.\n",
    "\n",
    "    Args:\n",
    "        data - the data set\n",
    "    '''\n",
    "    folds = create_folds(data)\n",
    "    test_errors = []\n",
    "    train_errors = []\n",
    "    # Iterate over the folds\n",
    "    for fold in range(len(folds)):\n",
    "        # Copy the entire data set\n",
    "        train_set = deepcopy(folds)\n",
    "        # Removing the fold from the training\n",
    "        # list since this will be the testing set\n",
    "        test_set = np.asarray(train_set.pop(fold))\n",
    "        train_set = np.asarray([item for sublist in train_set for item in sublist])\n",
    "        # If steps is None then just calculate errors\n",
    "        if steps == None:\n",
    "            # Calculate the average MSE for the test set\n",
    "            test_errors.append(calculate_error(train_set, test_set, k))\n",
    "            # Calculate the average MSE for the train set\n",
    "            train_errors.append(calculate_error(train_set, train_set, k))\n",
    "        # Otherwise, calculate the bias variance trade off\n",
    "        else:\n",
    "            # Determine bias variance trade off and append to \n",
    "            # corresponding list\n",
    "            train_results, test_results = determine_bias_variance(train_set, test_set, steps, k)\n",
    "            train_errors.append(train_results)\n",
    "            test_errors.append(test_results)\n",
    "    return train_errors, test_errors"
   ]
  },
  {
   "cell_type": "markdown",
   "metadata": {},
   "source": [
    "**Answer 1.**"
   ]
  },
  {
   "cell_type": "code",
   "execution_count": 2,
   "metadata": {},
   "outputs": [],
   "source": [
    "def knn(k, data, query):\n",
    "    '''\n",
    "    This routine performs the k-nearest neighbor algorithm\n",
    "    \n",
    "    Args:\n",
    "        k - the number of neighbors\n",
    "        data - the data\n",
    "        query - the point to query\n",
    "    Returns:\n",
    "        the predicted value for the query\n",
    "    '''    \n",
    "    # Assuming that the query has it's real value.\n",
    "    # Removing it in order to predict\n",
    "    x = query[:-1]\n",
    "    # Calculate the distances of x to the data points\n",
    "    # ignoring the actual value column\n",
    "    distances = distance(x, data[:,:-1])\n",
    "    # Determine the k closest values to x\n",
    "    min_indices = np.argpartition(distances, k)[:k]\n",
    "    # Extract the rows of interest and their actual\n",
    "    # values. Return the average\n",
    "    return np.sum(data[min_indices,-1])/k"
   ]
  },
  {
   "cell_type": "markdown",
   "metadata": {},
   "source": [
    "**Additional Setup**"
   ]
  },
  {
   "cell_type": "code",
   "execution_count": 11,
   "metadata": {},
   "outputs": [],
   "source": [
    "# Read the data\n",
    "data = read_data('concrete_compressive_strength.csv')\n",
    "# Shuffle the data a few times in order\n",
    "# to randomize the set\n",
    "shuffle(data)\n",
    "# Lists to keep track of the folds\n",
    "avg_mse_test_folds = []\n",
    "avg_mse_train_folds = []\n",
    "test_folds_mse = []\n",
    "train_folds_mse = []"
   ]
  },
  {
   "cell_type": "markdown",
   "metadata": {},
   "source": [
    "**Answer 2.**"
   ]
  },
  {
   "cell_type": "code",
   "execution_count": 12,
   "metadata": {},
   "outputs": [
    {
     "data": {
      "image/png": "[encoded data removed]",
      "text/plain": [
       "<Figure size 432x288 with 1 Axes>"
      ]
     },
     "metadata": {
      "needs_background": "light"
     },
     "output_type": "display_data"
    },
    {
     "name": "stdout",
     "output_type": "stream",
     "text": [
      "Best k value: 2\n"
     ]
    }
   ],
   "source": [
    "# Create a list of k values\n",
    "k = [x for x in range(1, 11)]\n",
    "# Iterate over the k values\n",
    "for val in k:\n",
    "    train_mse, test_mse = cross_validate(data, val)\n",
    "    avg_mse_test_folds.append(sum(test_mse)/len(test_mse))\n",
    "    avg_mse_train_folds.append(sum(train_mse)/len(train_mse))\n",
    "    test_folds_mse.append(test_mse)\n",
    "    train_folds_mse.append(train_mse)\n",
    "# Plot the data\n",
    "plt.xlabel('k')\n",
    "plt.ylabel('Mean Squared Error')\n",
    "test_patch = mpatches.Patch(color='red', label='Test')\n",
    "train_patch = mpatches.Patch(color='blue', label='Train')\n",
    "plt.legend(handles=[train_patch, test_patch])\n",
    "plt.plot(k, avg_mse_train_folds, \"bo-\", k, avg_mse_test_folds, \"ro-\")\n",
    "plt.title(\"Curves for k (10x fold average)\")\n",
    "plt.show()\n",
    "k_val = avg_mse_test_folds.index(min(avg_mse_test_folds)) + 1\n",
    "print(\"Best k value:\", k_val)"
   ]
  },
  {
   "cell_type": "markdown",
   "metadata": {},
   "source": [
    "**Answer 3.**"
   ]
  },
  {
   "cell_type": "code",
   "execution_count": 13,
   "metadata": {},
   "outputs": [
    {
     "data": {
      "image/png": "[encoded data removed]",
      "text/plain": [
       "<Figure size 432x288 with 1 Axes>"
      ]
     },
     "metadata": {
      "needs_background": "light"
     },
     "output_type": "display_data"
    }
   ],
   "source": [
    "# Create a list of values 0.05 - 1.0\n",
    "steps = list(np.arange(0.05, 1.05, 0.05)) \n",
    "# Perform cross validation\n",
    "train_mse, test_mse = cross_validate(data, k_val, steps)\n",
    "# Calculate the average over the folds for both sets\n",
    "train_mse = np.sum(train_mse, axis=0)/len(train_mse)\n",
    "test_mse = np.sum(test_mse, axis=0)/len(test_mse)\n",
    "#Plot the data\n",
    "plt.xlabel('Steps')\n",
    "plt.ylabel('Mean Squared Error')\n",
    "test_patch = mpatches.Patch(color='red', label='Test')\n",
    "train_patch = mpatches.Patch(color='blue', label='Train')\n",
    "plt.legend(handles=[train_patch, test_patch])\n",
    "plt.title(\"Curves for bias variance tradeoff (10x fold average, k=\" + str(k_val) + \")\")\n",
    "plt.plot(steps, train_mse, \"bo-\", steps, test_mse, \"ro-\")\n",
    "plt.show()"
   ]
  },
  {
   "cell_type": "markdown",
   "metadata": {},
   "source": [
    "**Answer 4.**"
   ]
  },
  {
   "cell_type": "code",
   "execution_count": 14,
   "metadata": {},
   "outputs": [
    {
     "name": "stdout",
     "output_type": "stream",
     "text": [
      "Best k value: 2\n",
      "\n",
      "Metrics for the testing set:\n",
      "\tAverage MSE: 65.8682483148405\n",
      "\tStd. Deviation: 14.179602342272874\n",
      "\n",
      "Metrics for the training set:\n",
      "\tAverage MSE: 36.56080512953782\n",
      "\tStd. Deviation: 18.61185994408321\n"
     ]
    }
   ],
   "source": [
    "# Calculate the average MSE over all the k's MSE\n",
    "avg_test_mse = sum(avg_mse_test_folds)/len(avg_mse_test_folds)\n",
    "avg_train_mse = sum(avg_mse_train_folds)/len(avg_mse_train_folds)\n",
    "# Calculate the std deviation\n",
    "test_std = np.sqrt(np.sum((np.asarray(avg_mse_test_folds)-avg_test_mse)**2)/len(avg_mse_test_folds))\n",
    "train_std = np.sqrt(np.sum((np.asarray(avg_mse_train_folds)-avg_train_mse)**2)/len(avg_mse_train_folds))\n",
    "print(\"Best k value:\", k_val)\n",
    "print()\n",
    "print(\"Metrics for the testing set:\")\n",
    "print(\"\\tAverage MSE:\", avg_test_mse)\n",
    "print(\"\\tStd. Deviation:\", test_std)\n",
    "print()\n",
    "print(\"Metrics for the training set:\")\n",
    "print(\"\\tAverage MSE:\", avg_train_mse)\n",
    "print(\"\\tStd. Deviation:\", train_std)"
   ]
  },
  {
   "cell_type": "markdown",
   "metadata": {},
   "source": [
    "## Discussion\n",
    "\n",
    "**1. Compare and contrast linear regression and kNN for a regression problem. What are the various pros/cons for each algorithm?**"
   ]
  },
  {
   "cell_type": "markdown",
   "metadata": {},
   "source": [
    "Linear regression aims to find a relationship between a target and predicted values.\n",
    "    Pros:\n",
    "        Only weights are saved, low space complexity\n",
    "        Works well if data has linear interpretation\n",
    "    Cons:\n",
    "        Not suited for non-linear data\n",
    "        Sensitive to outliers\n",
    "        \n",
    "kNN predicts a value based on the information of  k neighbors of the query point.\n",
    "    Pros:\n",
    "        Model doesn't need to be trained\n",
    "        Assumptions on data are not made\n",
    "    Cons:\n",
    "        Very slow on large data sets\n",
    "        Curse of dimensionality\n",
    "        Sensitive to outliers\n",
    "        \n",
    "Ultimatly the data set determines which algorithm is to be used."
   ]
  },
  {
   "cell_type": "markdown",
   "metadata": {},
   "source": [
    "**2\\. Will more data always make a model better? How do learning curves fit into this?**"
   ]
  },
  {
   "cell_type": "markdown",
   "metadata": {},
   "source": [
    "More data does not necessarily make a model better. In order to gain insight on how well the model performs is to determine it's bias and variance. When a model is underfitting this indicates that the model has a low variance and high bias, which means that the model can't find the trend of the data. When the model is overfitting this indicates high variance and low bias, which means the noise of the data is being captured. \n",
    "\n",
    "To visualize the bias variance tradeoff metrics of the model is to use plot learning curves of the training and testing sets. If the trailing ends of the curves meet (100% case) then this is the high bias case where more data will not help but adding more features may help. When there is a gap at the trailing ends of the curves then this is the high variance case where more date and/or reducing features may help."
   ]
  },
  {
   "cell_type": "markdown",
   "metadata": {},
   "source": [
    "**3\\. Why can't you use test or evaluate your model on the same data you trained it with? How does cross-validation fit into this? Do learning curves violate this?**"
   ]
  },
  {
   "cell_type": "markdown",
   "metadata": {},
   "source": [
    "If the the model is tested with the same data it was trained with, then the model will perform really well because the same data is used and the model really isn't exercising what it has learned. In order to prevent this cross-validation is used, this technique partitions the data set into training and testing sets. Cross-validation creates partitions/folds of the entire data set, if 5 folds are created then fold 1 is used as the testing set and folds 2-5 are used to train a model. To get a better idea on how the model performs each fold can become a testing set while the others become the training set and at each iteration metrics are recorded to get insight of the model. Learning curves used in conjunction with cross-validation does not violate the use of using the same data for both training and testing. Cross-validation provides variety of metrics that can be used to create learning curves to understand how the model is performing."
   ]
  },
  {
   "cell_type": "code",
   "execution_count": null,
   "metadata": {},
   "outputs": [],
   "source": []
  }
 ],
 "metadata": {
  "kernelspec": {
   "display_name": "Python 3",
   "language": "python",
   "name": "python3"
  },
  "language_info": {
   "codemirror_mode": {
    "name": "ipython",
    "version": 3
   },
   "file_extension": ".py",
   "mimetype": "text/x-python",
   "name": "python",
   "nbconvert_exporter": "python",
   "pygments_lexer": "ipython3",
   "version": "3.7.2"
  },
  "toc": {
   "colors": {
    "hover_highlight": "#DAA520",
    "navigate_num": "#000000",
    "navigate_text": "#333333",
    "running_highlight": "#FF0000",
    "selected_highlight": "#FFD700",
    "sidebar_border": "#EEEEEE",
    "wrapper_background": "#FFFFFF"
   },
   "moveMenuLeft": true,
   "nav_menu": {
    "height": "117px",
    "width": "252px"
   },
   "navigate_menu": true,
   "number_sections": true,
   "sideBar": true,
   "threshold": 4,
   "toc_cell": false,
   "toc_section_display": "block",
   "toc_window_display": false,
   "widenNotebook": false
  }
 },
 "nbformat": 4,
 "nbformat_minor": 1
}
